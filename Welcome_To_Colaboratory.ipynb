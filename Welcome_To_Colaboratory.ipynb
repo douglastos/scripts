{
  "nbformat": 4,
  "nbformat_minor": 0,
  "metadata": {
    "colab": {
      "name": "Welcome To Colaboratory",
      "provenance": [],
      "collapsed_sections": [],
      "toc_visible": true,
      "include_colab_link": true
    },
    "kernelspec": {
      "display_name": "Python 3",
      "name": "python3"
    }
  },
  "cells": [
    {
      "cell_type": "markdown",
      "metadata": {
        "id": "view-in-github",
        "colab_type": "text"
      },
      "source": [
        "<a href=\"https://colab.research.google.com/github/douglastos/scripts/blob/master/Welcome_To_Colaboratory.ipynb\" target=\"_parent\"><img src=\"https://colab.research.google.com/assets/colab-badge.svg\" alt=\"Open In Colab\"/></a>"
      ]
    },
    {
      "cell_type": "code",
      "metadata": {
        "colab": {
          "base_uri": "https://localhost:8080/"
        },
        "id": "FUbkEIkpHb0U",
        "outputId": "52fbb808-46b7-4d42-face-48792aebdd1e"
      },
      "source": [
        "x = 3\n",
        "y = 7\n",
        "\n",
        "print('x + y =',x + y)\n",
        "print(x-y)\n",
        "print(x*y)\n",
        "print(x/y)\n"
      ],
      "execution_count": 19,
      "outputs": [
        {
          "output_type": "stream",
          "text": [
            "x + y = 10\n",
            "-4\n",
            "21\n",
            "0.42857142857142855\n"
          ],
          "name": "stdout"
        }
      ]
    },
    {
      "cell_type": "code",
      "metadata": {
        "colab": {
          "base_uri": "https://localhost:8080/"
        },
        "id": "e2EB2u5FL666",
        "outputId": "647a33f3-b588-471b-e91e-10691bbdf8ba"
      },
      "source": [
        "#conceito de lista em memoria\n",
        "nome = ['douglas', '<3', 'camila']\n",
        "nome2 = []\n",
        "\n",
        "nome2.append('douglas')\n",
        "nome2.append('<3')\n",
        "nome2.append('camila')\n",
        "\n",
        "nome3 = nome2\n",
        "\n",
        "print(nome3 is nome2)\n",
        "\n",
        "nome.clear()\n",
        "nome2.append('amor eterno')\n",
        "print(nome)\n",
        "print(nome2)\n",
        "print(nome3)\n"
      ],
      "execution_count": 42,
      "outputs": [
        {
          "output_type": "stream",
          "text": [
            "True\n",
            "[]\n",
            "['douglas', '<3', 'camila', 'amor eterno']\n",
            "['douglas', '<3', 'camila', 'amor eterno']\n"
          ],
          "name": "stdout"
        }
      ]
    },
    {
      "cell_type": "code",
      "metadata": {
        "colab": {
          "base_uri": "https://localhost:8080/"
        },
        "id": "MiCAORavhmnu",
        "outputId": "3d3d6c48-e302-4062-acdd-dfa6649fe6d7"
      },
      "source": [
        "#massa coporea\n",
        "\n",
        "def main():\n",
        "    try:\n",
        "        peso = input('digite seu peso em kilos: ')\n",
        "        peso = float (peso)\n",
        "        altura = float (input('digite seu peso em altura: '))\n",
        "    except ValueError:\n",
        "        print('o valor inserido nao é um valor valido')\n",
        "        return\n",
        "\n",
        "    imc = peso / altura ** 2\n",
        "\n",
        "    if imc < 17:\n",
        "       situacao = 'muito abaixo do peso'\n",
        "    elif imc < 18.5:\n",
        "       situacao = 'abaixo do peso'\n",
        "    elif imc < 25:\n",
        "       situacao = 'peso ideal'\n",
        "    elif imc < 30:\n",
        "       situacao = 'acima do peso'\n",
        "    elif imc < 35:\n",
        "       situacao = 'obsidade 1'\n",
        "    else:\n",
        "       situacao = 'obsidade morbida'    \n",
        "    print('seu imc é', imc)\n",
        "    print('a sua situacao é : ', situacao)\n",
        "main()\n"
      ],
      "execution_count": 75,
      "outputs": [
        {
          "output_type": "stream",
          "text": [
            "digite seu peso em kilos: q\n",
            "o valor inserido nao é um valor valido\n"
          ],
          "name": "stdout"
        }
      ]
    },
    {
      "cell_type": "code",
      "metadata": {
        "id": "XdjVdHWjEVG7",
        "outputId": "2f0692fd-8e91-46d0-d8cf-d93c4773fb7d",
        "colab": {
          "base_uri": "https://localhost:8080/",
          "height": 133
        }
      },
      "source": [
        "#massa corporea\n",
        "\n",
        "escala_imc {\n",
        "    'map':\"muito abaixo do peso\"\n",
        "    'ap':'abaixo do peso'\n",
        "    'pi':'peso ideial'\n",
        "    'acp':'acima do peso'\n",
        "    'o1':'obsidade 1'\n",
        "    'om':'obsidade morbida'\n",
        "}\n",
        "\n",
        "def calcular_imc(peso_kg: float, altura_m: float) -> tuple[float, str]:\n",
        "    \n",
        "    imc = peso_kg / altura_m ** 2\n",
        "    \n",
        "    if imc < 17:\n",
        "       situacao = 'map'\n",
        "    elif imc < 18.5:\n",
        "       situacao = 'ap'\n",
        "    elif imc < 25:\n",
        "       situacao = 'pi'\n",
        "    elif imc < 30:\n",
        "       situacao = 'acp'\n",
        "    elif imc < 35:\n",
        "       situacao = 'o1'\n",
        "    else:\n",
        "       situacao = 'om'\n",
        "\n",
        "    return (imc, situacao) \n",
        "\n",
        "\n",
        "\n",
        "   "
      ],
      "execution_count": 76,
      "outputs": [
        {
          "output_type": "error",
          "ename": "SyntaxError",
          "evalue": "ignored",
          "traceback": [
            "\u001b[0;36m  File \u001b[0;32m\"<ipython-input-76-5ea7694086b1>\"\u001b[0;36m, line \u001b[0;32m3\u001b[0m\n\u001b[0;31m    escala_imc {\u001b[0m\n\u001b[0m               ^\u001b[0m\n\u001b[0;31mSyntaxError\u001b[0m\u001b[0;31m:\u001b[0m invalid syntax\n"
          ]
        }
      ]
    }
  ]
}