{
  "nbformat": 4,
  "nbformat_minor": 0,
  "metadata": {
    "colab": {
      "name": "Welcome To Colaboratory",
      "provenance": [],
      "collapsed_sections": [],
      "toc_visible": true,
      "include_colab_link": true
    },
    "kernelspec": {
      "display_name": "Python 3",
      "name": "python3"
    }
  },
  "cells": [
    {
      "cell_type": "markdown",
      "metadata": {
        "id": "view-in-github",
        "colab_type": "text"
      },
      "source": [
        "<a href=\"https://colab.research.google.com/github/douglastos/scripts/blob/master/Welcome_To_Colaboratory.ipynb\" target=\"_parent\"><img src=\"https://colab.research.google.com/assets/colab-badge.svg\" alt=\"Open In Colab\"/></a>"
      ]
    },
    {
      "cell_type": "code",
      "metadata": {
        "colab": {
          "base_uri": "https://localhost:8080/"
        },
        "id": "FUbkEIkpHb0U",
        "outputId": "52fbb808-46b7-4d42-face-48792aebdd1e"
      },
      "source": [
        "x = 3\n",
        "y = 7\n",
        "\n",
        "print('x + y =',x + y)\n",
        "print(x-y)\n",
        "print(x*y)\n",
        "print(x/y)\n"
      ],
      "execution_count": 19,
      "outputs": [
        {
          "output_type": "stream",
          "text": [
            "x + y = 10\n",
            "-4\n",
            "21\n",
            "0.42857142857142855\n"
          ],
          "name": "stdout"
        }
      ]
    },
    {
      "cell_type": "code",
      "metadata": {
        "colab": {
          "base_uri": "https://localhost:8080/"
        },
        "id": "e2EB2u5FL666",
        "outputId": "647a33f3-b588-471b-e91e-10691bbdf8ba"
      },
      "source": [
        "#conceito de lista em memoria\n",
        "nome = ['douglas', '<3', 'camila']\n",
        "nome2 = []\n",
        "\n",
        "nome2.append('douglas')\n",
        "nome2.append('<3')\n",
        "nome2.append('camila')\n",
        "\n",
        "nome3 = nome2\n",
        "\n",
        "print(nome3 is nome2)\n",
        "\n",
        "nome.clear()\n",
        "nome2.append('amor eterno')\n",
        "print(nome)\n",
        "print(nome2)\n",
        "print(nome3)\n"
      ],
      "execution_count": 42,
      "outputs": [
        {
          "output_type": "stream",
          "text": [
            "True\n",
            "[]\n",
            "['douglas', '<3', 'camila', 'amor eterno']\n",
            "['douglas', '<3', 'camila', 'amor eterno']\n"
          ],
          "name": "stdout"
        }
      ]
    },
    {
      "cell_type": "code",
      "metadata": {
        "colab": {
          "base_uri": "https://localhost:8080/"
        },
        "id": "MiCAORavhmnu",
        "outputId": "bd8e614e-1acd-4275-ffb3-a459c5502fd5"
      },
      "source": [
        "#massa coporea\n",
        "def main():\n",
        "    try:\n",
        "        peso = input('digite seu peso em kilos: ')\n",
        "        peso = float (peso)\n",
        "        altura = float (input('digite seu peso em altura: '))\n",
        "    except ValueError:\n",
        "        print('o valor inserido nao é um valor valido')\n",
        "        return\n",
        "\n",
        "    imc = peso / altura ** 2\n",
        "\n",
        "    print(imc)\n",
        "main()\n"
      ],
      "execution_count": 63,
      "outputs": [
        {
          "output_type": "stream",
          "text": [
            "digite seu peso em kilos: d\n",
            "o valor inserido nao é um valor valido\n"
          ],
          "name": "stdout"
        }
      ]
    }
  ]
}